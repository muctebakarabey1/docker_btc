{
 "cells": [
  {
   "cell_type": "code",
   "execution_count": null,
   "id": "80d7e4de",
   "metadata": {},
   "outputs": [],
   "source": []
  },
  {
   "cell_type": "code",
   "execution_count": null,
   "id": "c1247412",
   "metadata": {},
   "outputs": [],
   "source": []
  },
  {
   "cell_type": "code",
   "execution_count": null,
   "id": "b0138623",
   "metadata": {},
   "outputs": [],
   "source": []
  },
  {
   "cell_type": "code",
   "execution_count": null,
   "id": "56311116",
   "metadata": {},
   "outputs": [],
   "source": []
  },
  {
   "cell_type": "code",
   "execution_count": null,
   "id": "9616b9c9",
   "metadata": {},
   "outputs": [],
   "source": []
  },
  {
   "cell_type": "code",
   "execution_count": null,
   "id": "a9b7c1f3",
   "metadata": {},
   "outputs": [],
   "source": []
  },
  {
   "cell_type": "code",
   "execution_count": 1,
   "id": "5c02bc96",
   "metadata": {},
   "outputs": [],
   "source": [
    "from pyspark.ml.feature import VectorAssembler\n",
    "from pyspark.ml.regression import LinearRegression\n",
    "from pyspark.ml.evaluation import RegressionEvaluator\n",
    "from pyspark.sql import SparkSession\n",
    "from pyspark.sql.functions import col, when, monotonically_increasing_id, year, month, dayofweek, avg, lag\n",
    "from pyspark.sql.window import Window\n"
   ]
  },
  {
   "cell_type": "code",
   "execution_count": 2,
   "id": "ac50bd45",
   "metadata": {},
   "outputs": [],
   "source": [
    "# Initialize Spark session\n",
    "spark = SparkSession.builder.appName(\"BitcoinAnalysis\").enableHiveSupport().getOrCreate()\n"
   ]
  },
  {
   "cell_type": "code",
   "execution_count": 5,
   "id": "ca1585ef",
   "metadata": {},
   "outputs": [
    {
     "name": "stdout",
     "output_type": "stream",
     "text": [
      "+------------+-------+-------+-------+-------+----------+-------------------+-----------+-----------+-----------+------------+---------------+-----------------+\n",
      "|   timestamp|   open|   high|    low|  close|    volume|           datetime|price_range|ma_close_10|ma_close_30|daily_return|close_increased|cumulative_volume|\n",
      "+------------+-------+-------+-------+-------+----------+-------------------+-----------+-----------+-----------+------------+---------------+-----------------+\n",
      "| 1.7115414E9|69891.0|69917.0|69891.0|69917.0|0.03676174|2024-03-27 12:10:00|       26.0|    69855.4|  69809.164| 0.034338202|              1|      3.6380708E7|\n",
      "|1.71154146E9|69911.0|69933.0|69891.0|69898.0| 1.4020227|2024-03-27 12:11:00|       42.0|    69864.2|    69810.5|-0.027175078|              0|      3.6380712E7|\n",
      "|1.71154152E9|69889.0|69923.0|69889.0|69918.0| 0.6444195|2024-03-27 12:12:00|       34.0|    69878.3|    69812.1| 0.028613122|              1|      3.6380712E7|\n",
      "|1.71154158E9|69914.0|69943.0|69910.0|69943.0| 2.3568804|2024-03-27 12:13:00|       33.0|    69892.0|    69814.9|  0.03575617|              1|      3.6380712E7|\n",
      "|1.71154164E9|69924.0|69935.0|69903.0|69933.0| 1.5082661|2024-03-27 12:14:00|       32.0|    69900.7|    69817.4|-0.014297357|              0|      3.6380716E7|\n",
      "+------------+-------+-------+-------+-------+----------+-------------------+-----------+-----------+-----------+------------+---------------+-----------------+\n",
      "only showing top 5 rows\n",
      "\n"
     ]
    }
   ],
   "source": [
    "# Load data from Hive\n",
    "df = spark.sql(\"SELECT * FROM project2024.bitcoi2025 LIMIT 1000\")\n",
    "\n",
    "# Show initial data\n",
    "df.show(5)\n"
   ]
  },
  {
   "cell_type": "code",
   "execution_count": 6,
   "id": "89d86162",
   "metadata": {},
   "outputs": [],
   "source": [
    "# Add an index column for easier manipulation (optional, if needed)\n",
    "df = df.withColumn(\"index\", monotonically_increasing_id())\n",
    "\n",
    "# Remove the first row (index 0), if needed (optional)\n",
    "df = df.filter(\"index != 0\").drop(\"index\")\n"
   ]
  },
  {
   "cell_type": "code",
   "execution_count": 7,
   "id": "4c9df800",
   "metadata": {},
   "outputs": [],
   "source": [
    "# Fill missing values\n",
    "df = df.fillna({'open': 0, 'high': 0, 'low': 0, 'close': 0, 'volume': 0})\n"
   ]
  },
  {
   "cell_type": "code",
   "execution_count": 8,
   "id": "f4c3f642",
   "metadata": {},
   "outputs": [],
   "source": [
    "# Convert 'close_increased' to binary (1 if close increased, 0 otherwise)\n",
    "df = df.withColumn(\"close_increased\", when(col(\"close\") > col(\"open\"), 1).otherwise(0))\n",
    "\n",
    "# Extract year, month, and day of the week from 'datetime' (timestamp)\n",
    "df = df.withColumn(\"Year\", year(col(\"datetime\")))\n",
    "df = df.withColumn(\"Month\", month(col(\"datetime\")))\n",
    "df = df.withColumn(\"DayOfWeek\", dayofweek(col(\"datetime\")))\n"
   ]
  },
  {
   "cell_type": "code",
   "execution_count": 9,
   "id": "7e3eada8",
   "metadata": {},
   "outputs": [
    {
     "name": "stdout",
     "output_type": "stream",
     "text": [
      "+------------+-------+-------+-------+-------+----------+-------------------+-----------+-----------------+-----------------+--------------------+---------------+-----------------+----+-----+---------+----------+\n",
      "|   timestamp|   open|   high|    low|  close|    volume|           datetime|price_range|      ma_close_10|      ma_close_30|        daily_return|close_increased|cumulative_volume|Year|Month|DayOfWeek|prev_close|\n",
      "+------------+-------+-------+-------+-------+----------+-------------------+-----------+-----------------+-----------------+--------------------+---------------+-----------------+----+-----+---------+----------+\n",
      "|1.71154146E9|69911.0|69933.0|69891.0|69898.0| 1.4020227|2024-03-27 12:11:00|       42.0|          69898.0|          69898.0|                null|              0|      3.6380712E7|2024|    3|        4|      null|\n",
      "|1.71154152E9|69889.0|69923.0|69889.0|69918.0| 0.6444195|2024-03-27 12:12:00|       34.0|          69908.0|          69908.0|0.028613121977738992|              1|      3.6380712E7|2024|    3|        4|   69898.0|\n",
      "|1.71154158E9|69914.0|69943.0|69910.0|69943.0| 2.3568804|2024-03-27 12:13:00|       33.0|69919.66666666667|69919.66666666667| 0.03575617151520352|              1|      3.6380712E7|2024|    3|        4|   69918.0|\n",
      "|1.71154164E9|69924.0|69935.0|69903.0|69933.0| 1.5082661|2024-03-27 12:14:00|       32.0|          69923.0|          69923.0|-0.01429735641879...|              1|      3.6380716E7|2024|    3|        4|   69943.0|\n",
      "| 1.7115417E9|69945.0|69991.0|69945.0|69991.0|0.20406508|2024-03-27 12:15:00|       46.0|          69936.6|          69936.6|  0.0829365249596042|              1|      3.6380716E7|2024|    3|        4|   69933.0|\n",
      "+------------+-------+-------+-------+-------+----------+-------------------+-----------+-----------------+-----------------+--------------------+---------------+-----------------+----+-----+---------+----------+\n",
      "only showing top 5 rows\n",
      "\n"
     ]
    }
   ],
   "source": [
    "# Calculate additional features for the model\n",
    "df = df.withColumn(\"price_range\", col(\"high\") - col(\"low\"))\n",
    "\n",
    "# Calculate moving averages (10-period and 30-period) for closing price\n",
    "window_10 = Window.orderBy(\"datetime\").rowsBetween(-9, 0)  # 10-period window\n",
    "window_30 = Window.orderBy(\"datetime\").rowsBetween(-29, 0)  # 30-period window\n",
    "\n",
    "df = df.withColumn(\"ma_close_10\", avg(col(\"close\")).over(window_10))\n",
    "df = df.withColumn(\"ma_close_30\", avg(col(\"close\")).over(window_30))\n",
    "\n",
    "# Calculate daily return (percentage change)\n",
    "df = df.withColumn(\"prev_close\", lag(\"close\", 1).over(Window.orderBy(\"datetime\")))\n",
    "df = df.withColumn(\"daily_return\", (col(\"close\") - col(\"prev_close\")) / col(\"prev_close\") * 100)\n",
    "\n",
    "# Show the transformed data\n",
    "df.show(5)\n"
   ]
  },
  {
   "cell_type": "code",
   "execution_count": 12,
   "id": "c8f02f9e",
   "metadata": {},
   "outputs": [],
   "source": [
    "# Select the features for the model\n",
    "feature_cols = [\"price_range\", \"volume\", \"ma_close_10\", \"ma_close_30\", \"daily_return\", \"close_increased\"]\n",
    "\n",
    "# Using VectorAssembler to combine the selected features\n",
    "assembler = VectorAssembler(inputCols=feature_cols, outputCol=\"features\", handleInvalid=\"skip\")\n",
    "\n",
    "# Transform the data by adding a 'features' column\n",
    "prepared_df = assembler.transform(df)\n"
   ]
  },
  {
   "cell_type": "code",
   "execution_count": 13,
   "id": "70bc23bc",
   "metadata": {},
   "outputs": [
    {
     "name": "stdout",
     "output_type": "stream",
     "text": [
      "📊 Splitting data into training and testing sets...\n",
      "✅ Training Set: 161 rows, Testing Set: 27 rows\n"
     ]
    }
   ],
   "source": [
    "# Sample a fraction of the data (for example, 20% of the dataset)\n",
    "sampled_df = prepared_df.sample(withReplacement=False, fraction=0.2, seed=42)\n",
    "\n",
    "# Split sampled data into training and testing sets\n",
    "print(\"📊 Splitting data into training and testing sets...\")\n",
    "train_df, test_df = sampled_df.randomSplit([0.8, 0.2], seed=42)\n",
    "print(f\"✅ Training Set: {train_df.count()} rows, Testing Set: {test_df.count()} rows\")\n"
   ]
  },
  {
   "cell_type": "code",
   "execution_count": 14,
   "id": "5fbefe60",
   "metadata": {},
   "outputs": [
    {
     "name": "stdout",
     "output_type": "stream",
     "text": [
      "🤖 Training the model...\n"
     ]
    }
   ],
   "source": [
    "# Define Linear Regression Model (or Logistic Regression if you want classification)\n",
    "lr = LinearRegression(featuresCol='features', labelCol='close')\n",
    "\n",
    "# Train the model on the training data\n",
    "print(\"🤖 Training the model...\")\n",
    "model = lr.fit(train_df)\n"
   ]
  },
  {
   "cell_type": "code",
   "execution_count": 15,
   "id": "953a7a6d",
   "metadata": {},
   "outputs": [
    {
     "name": "stdout",
     "output_type": "stream",
     "text": [
      "📈 Making predictions...\n"
     ]
    }
   ],
   "source": [
    "# Make predictions on the testing data\n",
    "print(\"📈 Making predictions...\")\n",
    "predictions = model.transform(test_df)\n"
   ]
  },
  {
   "cell_type": "code",
   "execution_count": 16,
   "id": "e5614878",
   "metadata": {},
   "outputs": [
    {
     "name": "stdout",
     "output_type": "stream",
     "text": [
      "✅ Model RMSE: 57.82594405320109\n"
     ]
    }
   ],
   "source": [
    "# Evaluate Model\n",
    "evaluator = RegressionEvaluator(labelCol='close', predictionCol='prediction', metricName='rmse')\n",
    "rmse = evaluator.evaluate(predictions)\n",
    "print(f\"✅ Model RMSE: {rmse}\")\n"
   ]
  },
  {
   "cell_type": "code",
   "execution_count": 17,
   "id": "cedde1d5",
   "metadata": {},
   "outputs": [
    {
     "name": "stdout",
     "output_type": "stream",
     "text": [
      "📊 Displaying Predictions...\n",
      "+-------------------+-----------------+-------+\n",
      "|           datetime|       prediction|  close|\n",
      "+-------------------+-----------------+-------+\n",
      "|2024-03-27 12:19:00|69919.55808086986|69941.0|\n",
      "|2024-03-27 12:22:00|69865.88634802615|69861.0|\n",
      "|2024-03-27 12:23:00|69931.54228656853|69893.0|\n",
      "|2024-03-27 12:59:00|69618.10952126201|69554.0|\n",
      "|2024-03-27 13:10:00|69620.39568577247|69751.0|\n",
      "|2024-03-27 14:51:00| 69977.5944097219|69987.0|\n",
      "|2024-03-27 16:09:00|70228.28465003888|70246.0|\n",
      "|2024-03-27 16:10:00|70252.31678618865|70235.0|\n",
      "|2024-03-27 16:14:00|70199.26607518281|70230.0|\n",
      "|2024-03-27 16:35:00|70144.28900380731|70209.0|\n",
      "+-------------------+-----------------+-------+\n",
      "only showing top 10 rows\n",
      "\n"
     ]
    }
   ],
   "source": [
    "# Display Predictions\n",
    "print(\"📊 Displaying Predictions...\")\n",
    "predictions.select('datetime', 'prediction', 'close').show(10)\n"
   ]
  },
  {
   "cell_type": "code",
   "execution_count": null,
   "id": "fd38ffa2",
   "metadata": {},
   "outputs": [],
   "source": []
  }
 ],
 "metadata": {
  "kernelspec": {
   "display_name": "Python 3",
   "language": "python",
   "name": "python3"
  },
  "language_info": {
   "codemirror_mode": {
    "name": "ipython",
    "version": 3
   },
   "file_extension": ".py",
   "mimetype": "text/x-python",
   "name": "python",
   "nbconvert_exporter": "python",
   "pygments_lexer": "ipython3",
   "version": "3.6.8"
  }
 },
 "nbformat": 4,
 "nbformat_minor": 5
}
